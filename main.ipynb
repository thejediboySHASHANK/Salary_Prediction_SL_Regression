{
  "cells": [
    {
      "cell_type": "markdown",
      "metadata": {
        "id": "XQpYYWHymJlT"
      },
      "source": [
        "# IMPORTING THE LIBRARIES"
      ]
    },
    {
      "cell_type": "code",
      "execution_count": 3,
      "metadata": {
        "id": "01W1VaI3mJlZ"
      },
      "outputs": [],
      "source": [
        "import numpy as np\n",
        "import matplotlib.pyplot as plt\n",
        "import pandas as pd"
      ]
    },
    {
      "cell_type": "markdown",
      "metadata": {
        "id": "nbvDLuF7mJlc"
      },
      "source": [
        "# IMPORTING THE DATASET"
      ]
    },
    {
      "cell_type": "code",
      "execution_count": 4,
      "metadata": {
        "id": "oNadebK_mJld"
      },
      "outputs": [],
      "source": [
        "dataset = pd.read_csv('Salary_Data.csv')\n",
        "x = dataset.iloc[:, :-1].values\n",
        "y = dataset.iloc[:, -1].values"
      ]
    },
    {
      "cell_type": "markdown",
      "metadata": {
        "id": "6ig7TVcQmJld"
      },
      "source": [
        "# SPLITTING THE DATASET INTO THE TRAINING SET AND TEST SET"
      ]
    },
    {
      "cell_type": "code",
      "execution_count": 5,
      "metadata": {
        "id": "4Cyyd4RymJle"
      },
      "outputs": [],
      "source": [
        "from sklearn.model_selection import train_test_split\n",
        "x_train, x_test, y_train, y_test = train_test_split(x, y, test_size=1/3, random_state=0)"
      ]
    },
    {
      "cell_type": "markdown",
      "metadata": {
        "id": "RVcwSSvFmJlf"
      },
      "source": [
        "# TRAINING THE SIMPLE LINEAR REGRESSION MODEL ON THE TRAINING SET"
      ]
    },
    {
      "cell_type": "code",
      "execution_count": 6,
      "metadata": {
        "colab": {
          "base_uri": "https://localhost:8080/"
        },
        "id": "O7n2Z6qqmJlg",
        "outputId": "05bcba54-211f-4d40-ad98-67d3995f4dc2"
      },
      "outputs": [
        {
          "output_type": "execute_result",
          "data": {
            "text/plain": [
              "LinearRegression()"
            ]
          },
          "metadata": {},
          "execution_count": 6
        }
      ],
      "source": [
        "from sklearn.linear_model import LinearRegression\n",
        "regressor = LinearRegression ()\n",
        "regressor.fit(x_train, y_train)"
      ]
    },
    {
      "cell_type": "markdown",
      "metadata": {
        "id": "wAAGCrwFmJlh"
      },
      "source": [
        "# PREDICTING THE TEST RESULTS"
      ]
    },
    {
      "cell_type": "code",
      "execution_count": 7,
      "metadata": {
        "id": "THDAUjggmJlj"
      },
      "outputs": [],
      "source": [
        "y_pred = regressor.predict(x_test)"
      ]
    },
    {
      "cell_type": "markdown",
      "metadata": {
        "id": "2igqwAIdmJlj"
      },
      "source": [
        "# VISUALISING THE TRAINING SET RESULTS"
      ]
    },
    {
      "cell_type": "code",
      "execution_count": 8,
      "metadata": {
        "colab": {
          "base_uri": "https://localhost:8080/",
          "height": 295
        },
        "id": "-CpPgLz1mJlk",
        "outputId": "3d083245-88bc-4a5b-95e9-f29c8025b768"
      },
      "outputs": [
        {
          "output_type": "display_data",
          "data": {
            "text/plain": [
              "<Figure size 432x288 with 1 Axes>"
            ],
            "image/png": "[encoded data removed]"
          },
          "metadata": {
            "needs_background": "light"
          }
        }
      ],
      "source": [
        "plt.scatter(x_train, y_train, color='red')\n",
        "plt.plot(x_train, regressor.predict(x_train), color='blue')\n",
        "plt.title('Salary vs Experience (Training Set)')\n",
        "plt.xlabel('Years of Experience')\n",
        "plt.ylabel('Salary')\n",
        "plt.show()"
      ]
    },
    {
      "cell_type": "markdown",
      "metadata": {
        "id": "fXlNbvX8mJll"
      },
      "source": [
        "# VISUALISING THE TEST SET RESULTS"
      ]
    },
    {
      "cell_type": "code",
      "execution_count": 9,
      "metadata": {
        "colab": {
          "base_uri": "https://localhost:8080/",
          "height": 295
        },
        "id": "Ja9T_C8AmJll",
        "outputId": "8878b1f6-e0ab-4467-ace3-d2169ee15022"
      },
      "outputs": [
        {
          "output_type": "display_data",
          "data": {
            "text/plain": [
              "<Figure size 432x288 with 1 Axes>"
            ],
            "image/png": "[encoded data removed]"
          },
          "metadata": {
            "needs_background": "light"
          }
        }
      ],
      "source": [
        "plt.scatter(x_test, y_test, color='red')\n",
        "plt.plot(x_train, regressor.predict(x_train), color='blue') #no need to change anything because we are visualising the test set results with the reference of tarining set results\n",
        "plt.title('Salary vs Experience (Training Set)')\n",
        "plt.xlabel('Years of Experience')\n",
        "plt.ylabel('Salary')\n",
        "plt.show()"
      ]
    },
    {
      "cell_type": "markdown",
      "metadata": {
        "id": "TY46b-0ymJlm"
      },
      "source": [
        "# FOR FINDING OUT THE SALARY OF A PERSON WHO HAS LET' SAY 15 YEARS OF EXPERIENCE"
      ]
    },
    {
      "cell_type": "code",
      "execution_count": 10,
      "metadata": {
        "colab": {
          "base_uri": "https://localhost:8080/"
        },
        "id": "pDisHfRtmJlm",
        "outputId": "21f50a23-ca10-48d1-c140-d02a25b29e4e"
      },
      "outputs": [
        {
          "output_type": "stream",
          "name": "stdout",
          "text": [
            "Enter your age of experience : 15\n",
            "The salary of a person with 15 years of experience is : \n",
            "[167005.32889087]\n"
          ]
        }
      ],
      "source": [
        "exp = input('Enter your age of experience : ')\n",
        "exp = int(exp)\n",
        "print('The salary of a person with 15 years of experience is : ')\n",
        "print(regressor.predict([[exp]]))"
      ]
    },
    {
      "cell_type": "markdown",
      "metadata": {
        "id": "y6asmWmEmJln"
      },
      "source": [
        "# SETTING THE FINAL LINEAR REGRESSION EQUATION"
      ]
    },
    {
      "cell_type": "code",
      "execution_count": 11,
      "metadata": {
        "colab": {
          "base_uri": "https://localhost:8080/"
        },
        "id": "5FWt_2ipmJlo",
        "outputId": "28f216fa-a13e-4d5b-b3dc-b58cbe8e75a2"
      },
      "outputs": [
        {
          "output_type": "stream",
          "name": "stdout",
          "text": [
            "\n",
            "\n",
            "[9345.94244312]\n",
            "26816.192244031183\n"
          ]
        }
      ],
      "source": [
        "print(\"\\n\")\n",
        "print(regressor.coef_)\n",
        "print(regressor.intercept_)"
      ]
    },
    {
      "cell_type": "markdown",
      "metadata": {
        "id": "OcRR-UHEmJlo"
      },
      "source": [
        "# THE EQUATION IS : SALARY = 9345.94 X YearsExperience + 26816.19"
      ]
    }
  ],
  "metadata": {
    "kernelspec": {
      "display_name": "Python 3",
      "language": "python",
      "name": "python3"
    },
    "language_info": {
      "codemirror_mode": {
        "name": "ipython",
        "version": 3
      },
      "file_extension": ".py",
      "mimetype": "text/x-python",
      "name": "python",
      "nbconvert_exporter": "python",
      "pygments_lexer": "ipython3",
      "version": "3.6.4"
    },
    "colab": {
      "provenance": []
    }
  },
  "nbformat": 4,
  "nbformat_minor": 0
}